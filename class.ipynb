{
 "cells": [
  {
   "cell_type": "code",
   "execution_count": 1,
   "metadata": {},
   "outputs": [],
   "source": [
    "class Student:\n",
    "    def __init__(self, name, garde, major):\n",
    "        self.name = name\n",
    "        self.grade = garde\n",
    "        self.major = major\n",
    "\n",
    "    def student_info(self):\n",
    "        print(f\"학생 이름: {self.name}, 학년: {self.grade}, 전공: {self.major}\")"
   ]
  },
  {
   "cell_type": "code",
   "execution_count": 3,
   "metadata": {},
   "outputs": [],
   "source": [
    "s1 = Student('kim', 4, 'Robot')\n",
    "s2 = Student('Lee', 3, 'AI')"
   ]
  },
  {
   "cell_type": "code",
   "execution_count": 10,
   "metadata": {},
   "outputs": [],
   "source": [
    "class GradePoint(Student):\n",
    "    def __init__(self, name, garde, major, subjects, garde_point):\n",
    "        super().__init__(name, garde, major)\n",
    "        self.subjects = subjects\n",
    "        self.grade_point = garde_point\n",
    "\n",
    "    def student_info(self): #Overriding\n",
    "        print(f\"학생 이름: {self.name}, 학년: {self.grade}, 전공: {self.major}, 과목: {self.major}, 학점: {self.major}\")"
   ]
  },
  {
   "cell_type": "code",
   "execution_count": 11,
   "metadata": {},
   "outputs": [],
   "source": [
    "s1 = GradePoint('kim', 4, 'Robot', 'AI', 'A')\n",
    "s2 = GradePoint('Lee', 3, 'AI', 'Robot', 'B')"
   ]
  }
 ],
 "metadata": {
  "kernelspec": {
   "display_name": "Python 3",
   "language": "python",
   "name": "python3"
  },
  "language_info": {
   "codemirror_mode": {
    "name": "ipython",
    "version": 3
   },
   "file_extension": ".py",
   "mimetype": "text/x-python",
   "name": "python",
   "nbconvert_exporter": "python",
   "pygments_lexer": "ipython3",
   "version": "3.12.7"
  }
 },
 "nbformat": 4,
 "nbformat_minor": 2
}
